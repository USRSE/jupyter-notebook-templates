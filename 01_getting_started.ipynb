{
 "cells": [
  {
   "cell_type": "raw",
   "id": "1e00c4da-1ec9-4402-a28b-6ad4b241b3a8",
   "metadata": {},
   "source": [
    "---\n",
    "title: \"Getting Started with Quarto: Creating a Reproducible Document\"\n",
    "format: \n",
    "    html:\n",
    "        output: false\n",
    "        code-fold: false\n",
    "jupyter: python3\n",
    "---"
   ]
  },
  {
   "cell_type": "markdown",
   "id": "b01988a2-9e2b-4995-9881-909e34a76f63",
   "metadata": {},
   "source": [
    "## Goals \n",
    "\n",
    "You will learn how to use Quarto in order to submit a reproducible document to the US-RSE conference. The aim is to compile `reproducible_document_template.ipynb` into an HTML document, which is the accepted format for reproducible documents within the digital proceedings."
   ]
  },
  {
   "cell_type": "markdown",
   "id": "8776c2d1-722b-4e14-8b78-4b3f50f45bd4",
   "metadata": {},
   "source": [
    "## Quarto\n",
    "\n",
    "Quarto® is an open-source scientific and technical publishing system built on Pandoc. It can be used to publish high-quality documents and  books in HTML, PDF, and more.\n",
    "\n",
    "### 1. Download Quarto\n",
    "\n",
    "Visit the [Getting Started](https://quarto.org/docs/get-started/) page on the Quarto site and download the latest version.\n",
    "\n",
    "### 2. Create a static HTML page"
   ]
  },
  {
   "cell_type": "code",
   "execution_count": null,
   "id": "1469d458-cdee-48f7-a79c-756024d254c4",
   "metadata": {},
   "outputs": [],
   "source": [
    "%%bash\n",
    "\n",
    "quarto render reproducible_document_template.ipynb --to html"
   ]
  },
  {
   "cell_type": "markdown",
   "id": "f5b0cce0-68d9-415b-b8a0-0f255539acb0",
   "metadata": {},
   "source": [
    "Great! Now use the sidebar to open up `reproducible_document_template.html`. Looks good doesn't it?\n",
    "\n",
    "But maybe you don't want to run this command every single time you want to view a change. To see the changes live, let's try using the Quarto `preview` command, which launches a server that hosts a dynamic webpage.\n",
    "\n",
    "### 3. Preview the output in your browser"
   ]
  },
  {
   "cell_type": "code",
   "execution_count": null,
   "id": "7779372c-a8e0-480c-aadc-ec9867094b9f",
   "metadata": {
    "tags": []
   },
   "outputs": [],
   "source": [
    "%%bash \n",
    "\n",
    "quarto preview reproducible_document_template.ipynb"
   ]
  },
  {
   "cell_type": "markdown",
   "id": "55ead6c6-3c72-4d81-98d8-9d8e68d9f4cb",
   "metadata": {
    "tags": []
   },
   "source": [
    "### 4. Observe reflected changes to `reproducible_document_template.ipynb`\n",
    "\n",
    "We want to see a change reflected when we alter the notebook.\n",
    "\n",
    "- [Open `reproducible_document_template.ipynb`](reproducible_document_template.ipynb) for editting\n",
    "- add a markdown cell that says \"Hello!\"\n",
    "- save the notebook\n",
    "- observe the reflected change in the preview tab\n",
    "\n",
    "\n",
    "### 5. Learn more\n",
    "\n",
    "Visit [Getting Started: Computations](https://quarto.org/docs/get-started/computations/jupyter.html) to learn more about the different options you have to control how code and computational output appear within rendered documents. You are done with \"Getting Started with Quarto\"! Edit the template and submit your computational notebook to the US-RSE Conference."
   ]
  },
  {
   "cell_type": "code",
   "execution_count": null,
   "id": "a9433576-835b-4122-a2ab-f9b157ab6c6c",
   "metadata": {},
   "outputs": [],
   "source": []
  }
 ],
 "metadata": {
  "kernelspec": {
   "display_name": "Python 3 (ipykernel)",
   "language": "python",
   "name": "python3"
  },
  "language_info": {
   "codemirror_mode": {
    "name": "ipython",
    "version": 3
   },
   "file_extension": ".py",
   "mimetype": "text/x-python",
   "name": "python",
   "nbconvert_exporter": "python",
   "pygments_lexer": "ipython3",
   "version": "3.7.12"
  }
 },
 "nbformat": 4,
 "nbformat_minor": 5
}
