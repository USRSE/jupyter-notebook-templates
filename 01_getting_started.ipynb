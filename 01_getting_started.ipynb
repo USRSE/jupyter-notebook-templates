{
 "cells": [
  {
   "cell_type": "raw",
   "id": "1e00c4da-1ec9-4402-a28b-6ad4b241b3a8",
   "metadata": {},
   "source": [
    "---\n",
    "title: \"Getting Started with Binder: Creating a Interactive Notebook\"\n",
    "format: \n",
    "    html:\n",
    "        output: false\n",
    "        code-fold: false\n",
    "jupyter: python3\n",
    "---"
   ]
  },
  {
   "cell_type": "markdown",
   "id": "b01988a2-9e2b-4995-9881-909e34a76f63",
   "metadata": {},
   "source": [
    "## Goals \n",
    "\n",
    "You will learn how to use Binder in order to submit a interactive notebook to the US-RSE conference. The aim is to launch `interactive_notebook_template.ipynb` using Binder, which will be the accepted platform for accessing interactive notebooks within the digital proceedings. You will learn how to create a badge, which should appear in your README.md and will be added to the digital proceedings."
   ]
  },
  {
   "cell_type": "markdown",
   "id": "8776c2d1-722b-4e14-8b78-4b3f50f45bd4",
   "metadata": {},
   "source": [
    "## Binder\n",
    "\n",
    "`mybinder.org` is an online service for building and sharing reproducible and interactive computational environments from online repositories. In other words, it's a way for anyone to access a hosted version of a Jupyter Notebook (given some additional information and configuration). We will use Binder to host accepted interactive notebooks."
   ]
  },
  {
   "cell_type": "markdown",
   "id": "1871a66b-34e5-409b-bb0f-534f39d484f2",
   "metadata": {},
   "source": [
    "### Getting Started\n",
    "\n",
    "In order to get started with Binder, your repository must be up to date on GitHub. Read the README in this repository for instructions on how to create a personal copy of the template. From there, you are immediately ready to launch the template notebook on Binder."
   ]
  },
  {
   "cell_type": "markdown",
   "id": "3e8b8e6d-45c5-4d6a-a170-c86dff6afcef",
   "metadata": {},
   "source": [
    "### Visit [MyBinder.org](https://mybinder.org/)\n",
    "\n",
    "Visit this site. The first page contains instructions for obtaining a link that will launch your notebook. You can use the image below as a guide. In the GitHub repository name of URL, replace `USRSE` with your personal username. Leave the other fields as they are."
   ]
  },
  {
   "cell_type": "markdown",
   "id": "264ab067-9713-4179-9207-f2f777c59225",
   "metadata": {},
   "source": [
    "![binder](img/Binder.png)"
   ]
  },
  {
   "cell_type": "markdown",
   "id": "dd171bcb-1afc-4188-af2e-0367f6a876b4",
   "metadata": {},
   "source": [
    "From there, you can copy the link to show a binder badge. The badge shown below is for the interactive notebook template within the USRSE repository."
   ]
  },
  {
   "cell_type": "markdown",
   "id": "a98b55f1-1482-4448-bed0-2125ddb9f999",
   "metadata": {},
   "source": [
    "[![Binder](https://mybinder.org/badge_logo.svg)](https://mybinder.org/v2/gh/USRSE/jupyter-notebook-templates/interactive-notebook?labpath=interactive_notebook_template.ipynb)"
   ]
  },
  {
   "cell_type": "markdown",
   "id": "885518fc-9db0-40d6-bc0a-3ade58551b6f",
   "metadata": {
    "tags": []
   },
   "source": [
    "### Try it out\n",
    "\n",
    "Try it out for yourself and replace the above badge with your own."
   ]
  },
  {
   "cell_type": "code",
   "execution_count": null,
   "id": "f2e5fb8f-aadf-4979-9e49-a802c59c7f04",
   "metadata": {},
   "outputs": [],
   "source": []
  }
 ],
 "metadata": {
  "kernelspec": {
   "display_name": "Python 3 (ipykernel)",
   "language": "python",
   "name": "python3"
  },
  "language_info": {
   "codemirror_mode": {
    "name": "ipython",
    "version": 3
   },
   "file_extension": ".py",
   "mimetype": "text/x-python",
   "name": "python",
   "nbconvert_exporter": "python",
   "pygments_lexer": "ipython3",
   "version": "3.7.12"
  }
 },
 "nbformat": 4,
 "nbformat_minor": 5
}
