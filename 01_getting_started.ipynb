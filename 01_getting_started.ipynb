{
 "cells": [
  {
   "cell_type": "raw",
   "id": "1e00c4da-1ec9-4402-a28b-6ad4b241b3a8",
   "metadata": {},
   "source": [
    "---\n",
    "title: \"Getting Started with Binder: Creating a Interactive Notebook\"\n",
    "format: \n",
    "    html:\n",
    "        output: false\n",
    "        code-fold: false\n",
    "jupyter: python3\n",
    "---"
   ]
  },
  {
   "cell_type": "markdown",
   "id": "b01988a2-9e2b-4995-9881-909e34a76f63",
   "metadata": {},
   "source": [
    "## Goals \n",
    "\n",
    "1. Use [Voilà](https://voila.readthedocs.io/en/stable/) to turn `web_application_template.ipynb` into a standalone web application\n",
    "2. Learn how to use Binder in order to submit a interactive notebook to the US-RSE conference. The aim is to launch `web_application_template.ipynb` using Binder, which will be the accepted platform for accessing interactive notebooks within the digital proceedings.\n",
    "3. Use Voilà and Binder together to host your notebook as a free, fully-fledged web application. You will learn how to create a badge, which should appear in your README.md and will be added to the digital proceedings."
   ]
  },
  {
   "cell_type": "markdown",
   "id": "389809c4-644c-435a-9612-255c53fd1e59",
   "metadata": {},
   "source": [
    "## Voilà\n",
    "\n",
    "Voilà turns Jupyter notebooks into standalone web applications. It does so by hiding all the code cells but displaying interactive components. This presentation style improves accessibility by allowing users to interact with data and perform computations without ever touching code."
   ]
  },
  {
   "cell_type": "markdown",
   "id": "0f4c00f7-e59f-4be8-9eca-61335a458664",
   "metadata": {},
   "source": [
    "### Preview the web application from JupyterLab\n",
    "\n",
    "[Click here](web_application_template.ipynb) to access the `web_application_template.ipynb`. Then click on the Voilà button to launch the template as a web application, as shown below. Also notice that the there is a checkbox to \"Render on Save"
   ]
  },
  {
   "cell_type": "markdown",
   "id": "56e9da1a-20b7-4e96-890a-b91706169568",
   "metadata": {
    "tags": []
   },
   "source": [
    "![Voila Preview](voila_preview.gif)"
   ]
  },
  {
   "cell_type": "markdown",
   "id": "236d214c-a2ed-48ee-8070-b9078e30b53a",
   "metadata": {},
   "source": [
    "### Preview the web app from a standalone browser tab\n",
    "\n",
    "You may want to see what the app will look like full-screen. The following command will open up the application in a standalone browser tab."
   ]
  },
  {
   "cell_type": "code",
   "execution_count": null,
   "id": "9be2c26c-4819-4a53-afa2-a08065ca6bdc",
   "metadata": {
    "tags": []
   },
   "outputs": [],
   "source": [
    "%%bash\n",
    "\n",
    "voila web_application_template.ipynb"
   ]
  },
  {
   "cell_type": "markdown",
   "id": "8776c2d1-722b-4e14-8b78-4b3f50f45bd4",
   "metadata": {},
   "source": [
    "## Binder\n",
    "\n",
    "`mybinder.org` is an online service for building and sharing reproducible and interactive computational environments from online repositories. In other words, it's a way for anyone to access a hosted version of a Jupyter Notebook (given some additional information and configuration). We will use Binder to host accepted interactive notebooks."
   ]
  },
  {
   "cell_type": "markdown",
   "id": "1871a66b-34e5-409b-bb0f-534f39d484f2",
   "metadata": {},
   "source": [
    "### Getting Started\n",
    "\n",
    "In order to get started with Binder, your repository must be up to date on GitHub. Read the README in this repository for instructions on how to create a personal copy of the template. From there, you are immediately ready to launch the template notebook on Binder."
   ]
  },
  {
   "cell_type": "markdown",
   "id": "3e8b8e6d-45c5-4d6a-a170-c86dff6afcef",
   "metadata": {},
   "source": [
    "### Visit [MyBinder.org](https://mybinder.org/)\n",
    "\n",
    "Visit this site. The first page contains instructions for obtaining a link that will launch your notebook. You can use the image below as a guide. In the GitHub repository name of URL, replace `USRSE` with your personal username. Leave the other fields as they are."
   ]
  },
  {
   "cell_type": "markdown",
   "id": "264ab067-9713-4179-9207-f2f777c59225",
   "metadata": {},
   "source": [
    "![binder](img/binder.png)"
   ]
  },
  {
   "cell_type": "markdown",
   "id": "dd171bcb-1afc-4188-af2e-0367f6a876b4",
   "metadata": {},
   "source": [
    "From there, you can copy the link to show a binder badge. The badge shown below is for the web application notebook template within the USRSE repository."
   ]
  },
  {
   "cell_type": "markdown",
   "id": "a98b55f1-1482-4448-bed0-2125ddb9f999",
   "metadata": {},
   "source": [
    "[![Binder](https://mybinder.org/badge_logo.svg)](https://mybinder.org/v2/gh/USRSE/jupyter-notebook-templates/web_application?labpath=web_application_template.ipynb)"
   ]
  },
  {
   "cell_type": "markdown",
   "id": "885518fc-9db0-40d6-bc0a-3ade58551b6f",
   "metadata": {
    "tags": []
   },
   "source": [
    "### Try it out\n",
    "\n",
    "Try it out for yourself and replace the above badge with your own."
   ]
  },
  {
   "cell_type": "markdown",
   "id": "aaf27a93-d406-4e8f-853c-5af9452ec120",
   "metadata": {},
   "source": [
    "### Binder and Voilà: Better Together\n",
    "\n",
    "It is pretty easy to launch a web application in Binder. The only change we have to make is the \"path to a notebook file\" option. Instead of giving Binder the name of the notebook `web_application_template.ipynb`, we will instead type `voila/render/index.ipynb`. This will tell Binder everything it needs to know to launch the notebook with Voilà. You can use the same options as the screenshot below, but just as before, you will want to replace `USRSE` with your own username. "
   ]
  },
  {
   "cell_type": "markdown",
   "id": "9bd77617-4e01-4aa7-8900-85a4acea4e8b",
   "metadata": {},
   "source": [
    "![](img/voila_and_binder.png)"
   ]
  },
  {
   "cell_type": "markdown",
   "id": "8311a676-a0f2-4944-82b6-15e918d21531",
   "metadata": {},
   "source": [
    "Once again, you can copy the link to show a binder badge. The badge shown below is for the web application template within the USRSE repository."
   ]
  },
  {
   "cell_type": "markdown",
   "id": "91c33b15-548a-466a-9cc4-4465914971e2",
   "metadata": {
    "tags": []
   },
   "source": [
    "[![Binder](https://mybinder.org/badge_logo.svg)](https://mybinder.org/v2/gh/USRSE/jupyter-notebook-templates/web_application?labpath=voila%2Frender%2Fweb_application_template.ipynb)"
   ]
  },
  {
   "cell_type": "markdown",
   "id": "a3d13cfb-dc29-47f2-a88e-ad386f53c65e",
   "metadata": {
    "tags": []
   },
   "source": [
    "### Try it out\n",
    "\n",
    "Try it out for yourself and replace the above badge with your own."
   ]
  },
  {
   "cell_type": "code",
   "execution_count": null,
   "id": "2b80a30f-44b0-4e97-9fd0-0cd68bf2925c",
   "metadata": {},
   "outputs": [],
   "source": []
  }
 ],
 "metadata": {
  "kernelspec": {
   "display_name": "Python 3 (ipykernel)",
   "language": "python",
   "name": "python3"
  },
  "language_info": {
   "codemirror_mode": {
    "name": "ipython",
    "version": 3
   },
   "file_extension": ".py",
   "mimetype": "text/x-python",
   "name": "python",
   "nbconvert_exporter": "python",
   "pygments_lexer": "ipython3",
   "version": "3.7.12"
  }
 },
 "nbformat": 4,
 "nbformat_minor": 5
}
